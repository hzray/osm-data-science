{
 "cells": [
  {
   "cell_type": "code",
   "execution_count": 1,
   "metadata": {},
   "outputs": [],
   "source": [
    "import sys\n",
    "import numpy as np\n",
    "import pandas as pd\n",
    "from math import cos, asin, sqrt, pi\n",
    "from IPython.display import display\n",
    "from sklearn.cluster import KMeans\n",
    "from sklearn.decomposition import PCA\n",
    "from sklearn.neighbors import NearestNeighbors\n",
    "from sklearn import preprocessing\n",
    "from sklearn.preprocessing import OneHotEncoder\n",
    "from sklearn.cluster import KMeans\n",
    "from sklearn.decomposition import PCA\n",
    "from sklearn.pipeline import make_pipeline\n",
    "from sklearn.preprocessing import MinMaxScaler\n",
    "from sklearn.preprocessing import StandardScaler\n",
    "import warnings\n",
    "pd.options.mode.chained_assignment = None\n",
    "warnings.filterwarnings(\"ignore\", category=DeprecationWarning) "
   ]
  },
  {
   "cell_type": "code",
   "execution_count": 2,
   "metadata": {},
   "outputs": [],
   "source": [
    "#choice = 8 -> gas station \n",
    "#choice = 29 -> TH at Metrotown\n",
    "choice = 29 #must less than or equal to 112 since there are 122 data \n",
    "assert (choice <= 112) & (choice >= 0)\n",
    "tims = pd.read_csv('./tims/TimHortons.csv')\n",
    "osm = pd.read_json('./tims/amenities-vancouver.json.gz',lines=True)"
   ]
  },
  {
   "cell_type": "code",
   "execution_count": 3,
   "metadata": {},
   "outputs": [],
   "source": [
    "# Drop the rows without name value and get the rows with 'Tim Hortons' osm is the df for tim hortons in osm dataset\n",
    "osm = osm.dropna(subset=['name'])\n",
    "osm.reset_index(drop=True, inplace=True)\n",
    "# save a copy of osm data\n",
    "original = osm\n",
    "original.reset_index(drop=True, inplace=True)\n",
    "osm = osm[osm['name'].str.match('Tim Hortons')]\n",
    "osm.reset_index(drop=True, inplace=True)"
   ]
  },
  {
   "cell_type": "code",
   "execution_count": 4,
   "metadata": {},
   "outputs": [
    {
     "data": {
      "text/plain": [
       "(126, 6)"
      ]
     },
     "execution_count": 4,
     "metadata": {},
     "output_type": "execute_result"
    }
   ],
   "source": [
    "osm.shape"
   ]
  },
  {
   "cell_type": "code",
   "execution_count": 5,
   "metadata": {},
   "outputs": [
    {
     "data": {
      "text/plain": [
       "(4346, 35)"
      ]
     },
     "execution_count": 5,
     "metadata": {},
     "output_type": "execute_result"
    }
   ],
   "source": [
    "tims.shape"
   ]
  },
  {
   "cell_type": "code",
   "execution_count": 6,
   "metadata": {},
   "outputs": [],
   "source": [
    "#get the Tim Hortons in Vancourver only \n",
    "tims = tims[(tims['longitude'] > -123.5) & (tims['longitude'] < -122) ]\n",
    "tims = tims[(tims['latitude'] > 49) & (tims['latitude'] < 49.5)]"
   ]
  },
  {
   "cell_type": "code",
   "execution_count": 7,
   "metadata": {},
   "outputs": [
    {
     "data": {
      "text/plain": [
       "(195, 35)"
      ]
     },
     "execution_count": 7,
     "metadata": {},
     "output_type": "execute_result"
    }
   ],
   "source": [
    "# reduce from 4346 to 195\n",
    "tims.shape"
   ]
  },
  {
   "cell_type": "markdown",
   "metadata": {},
   "source": [
    "## Function Declarations"
   ]
  },
  {
   "cell_type": "code",
   "execution_count": 8,
   "metadata": {},
   "outputs": [],
   "source": [
    "def haversine_dist(lat1, lon1, lat2, lon2):\n",
    "    #adapted from https://stackoverflow.com/questions/27928/calculate-distance-between-two-latitude-longitude-points-haversine-formula?page=1&tab=votes#tab-top\n",
    "    if((lat2 == 0) and (lon2 == 0 )): \n",
    "        return float(0)\n",
    "    p = pi/180\n",
    "    a = 0.5 - cos((lat2-lat1)*p)/2 + cos(lat1*p) * cos(lat2*p) * (1-cos((lon2-lon1)*p))/2\n",
    "    return 12742 * asin(sqrt(a))*1000.0"
   ]
  },
  {
   "cell_type": "code",
   "execution_count": 9,
   "metadata": {},
   "outputs": [],
   "source": [
    "def distance(df,tims):\n",
    "    dist_calc = np.vectorize(haversine_dist, otypes=[np.float])\n",
    "    res = dist_calc(df['lat'],df['lon'],tims['latitude'],tims['longitude'])\n",
    "#it is unlikely there are two TimHortons within 200m\n",
    "    if np.amin(res) > 200:\n",
    "        return -1\n",
    "    else:\n",
    "        return res.argmin() "
   ]
  },
  {
   "cell_type": "code",
   "execution_count": 10,
   "metadata": {},
   "outputs": [],
   "source": [
    "def parkingTypeProcessing(df, shape):\n",
    "    res = []\n",
    "    for i in range(shape):\n",
    "        if df.iloc[i] == 'Shared':\n",
    "            res.append(1)\n",
    "        elif df.iloc[i] == 'Dedicated':\n",
    "            res.append(2)\n",
    "        elif df.iloc[i] == 'Street':\n",
    "            res.append(3)\n",
    "        else:\n",
    "            res.append(0)\n",
    "    return np.array(res)"
   ]
  },
  {
   "cell_type": "code",
   "execution_count": 11,
   "metadata": {},
   "outputs": [],
   "source": [
    "def handleMisspell(df, word, correctWord):\n",
    "    res = []\n",
    "    for i in range(df.shape[0]):\n",
    "        if df.iloc[i] == word:\n",
    "            res.append(correctWord)\n",
    "        else:\n",
    "            res.append(df.iloc[i])\n",
    "    return np.array(res)"
   ]
  },
  {
   "cell_type": "markdown",
   "metadata": {},
   "source": [
    "## Data cleaning"
   ]
  },
  {
   "cell_type": "code",
   "execution_count": 12,
   "metadata": {},
   "outputs": [],
   "source": [
    "def tim_dist(x):\n",
    "    return distance(x,tims)"
   ]
  },
  {
   "cell_type": "code",
   "execution_count": 13,
   "metadata": {},
   "outputs": [],
   "source": [
    "osm['tim_index'] = osm.apply(tim_dist,axis=1)"
   ]
  },
  {
   "cell_type": "code",
   "execution_count": 14,
   "metadata": {},
   "outputs": [
    {
     "data": {
      "text/html": [
       "<div>\n",
       "<style scoped>\n",
       "    .dataframe tbody tr th:only-of-type {\n",
       "        vertical-align: middle;\n",
       "    }\n",
       "\n",
       "    .dataframe tbody tr th {\n",
       "        vertical-align: top;\n",
       "    }\n",
       "\n",
       "    .dataframe thead th {\n",
       "        text-align: right;\n",
       "    }\n",
       "</style>\n",
       "<table border=\"1\" class=\"dataframe\">\n",
       "  <thead>\n",
       "    <tr style=\"text-align: right;\">\n",
       "      <th></th>\n",
       "      <th>amenity</th>\n",
       "      <th>lat</th>\n",
       "      <th>lon</th>\n",
       "      <th>name</th>\n",
       "      <th>tags</th>\n",
       "      <th>timestamp</th>\n",
       "      <th>tim_index</th>\n",
       "    </tr>\n",
       "  </thead>\n",
       "  <tbody>\n",
       "    <tr>\n",
       "      <th>0</th>\n",
       "      <td>cafe</td>\n",
       "      <td>49.193580</td>\n",
       "      <td>-123.180788</td>\n",
       "      <td>Tim Hortons</td>\n",
       "      <td>{u'cuisine': u'coffee_shop', u'level': u'0', u...</td>\n",
       "      <td>2019-09-14 12:00:22</td>\n",
       "      <td>190</td>\n",
       "    </tr>\n",
       "    <tr>\n",
       "      <th>1</th>\n",
       "      <td>cafe</td>\n",
       "      <td>49.228400</td>\n",
       "      <td>-122.848383</td>\n",
       "      <td>Tim Hortons</td>\n",
       "      <td>{u'addr:housenumber': u'1450', u'cuisine': u'c...</td>\n",
       "      <td>2019-11-20 19:48:37</td>\n",
       "      <td>83</td>\n",
       "    </tr>\n",
       "    <tr>\n",
       "      <th>2</th>\n",
       "      <td>cafe</td>\n",
       "      <td>49.212449</td>\n",
       "      <td>-122.919749</td>\n",
       "      <td>Tim Hortons</td>\n",
       "      <td>{u'website': u'https://www.timhortons.com/', u...</td>\n",
       "      <td>2019-07-02 08:10:30</td>\n",
       "      <td>101</td>\n",
       "    </tr>\n",
       "    <tr>\n",
       "      <th>3</th>\n",
       "      <td>cafe</td>\n",
       "      <td>49.091952</td>\n",
       "      <td>-122.957650</td>\n",
       "      <td>Tim Hortons</td>\n",
       "      <td>{u'cuisine': u'coffee_shop', u'brand': u'Tim H...</td>\n",
       "      <td>2019-08-02 08:26:08</td>\n",
       "      <td>106</td>\n",
       "    </tr>\n",
       "    <tr>\n",
       "      <th>4</th>\n",
       "      <td>cafe</td>\n",
       "      <td>49.273107</td>\n",
       "      <td>-123.100727</td>\n",
       "      <td>Tim Hortons</td>\n",
       "      <td>{u'addr:housenumber': u'195', u'cuisine': u'co...</td>\n",
       "      <td>2020-02-06 04:20:15</td>\n",
       "      <td>153</td>\n",
       "    </tr>\n",
       "  </tbody>\n",
       "</table>\n",
       "</div>"
      ],
      "text/plain": [
       "  amenity        lat         lon         name  \\\n",
       "0    cafe  49.193580 -123.180788  Tim Hortons   \n",
       "1    cafe  49.228400 -122.848383  Tim Hortons   \n",
       "2    cafe  49.212449 -122.919749  Tim Hortons   \n",
       "3    cafe  49.091952 -122.957650  Tim Hortons   \n",
       "4    cafe  49.273107 -123.100727  Tim Hortons   \n",
       "\n",
       "                                                tags           timestamp  \\\n",
       "0  {u'cuisine': u'coffee_shop', u'level': u'0', u... 2019-09-14 12:00:22   \n",
       "1  {u'addr:housenumber': u'1450', u'cuisine': u'c... 2019-11-20 19:48:37   \n",
       "2  {u'website': u'https://www.timhortons.com/', u... 2019-07-02 08:10:30   \n",
       "3  {u'cuisine': u'coffee_shop', u'brand': u'Tim H... 2019-08-02 08:26:08   \n",
       "4  {u'addr:housenumber': u'195', u'cuisine': u'co... 2020-02-06 04:20:15   \n",
       "\n",
       "   tim_index  \n",
       "0        190  \n",
       "1         83  \n",
       "2        101  \n",
       "3        106  \n",
       "4        153  "
      ]
     },
     "execution_count": 14,
     "metadata": {},
     "output_type": "execute_result"
    }
   ],
   "source": [
    "osm.head()"
   ]
  },
  {
   "cell_type": "code",
   "execution_count": 15,
   "metadata": {},
   "outputs": [],
   "source": [
    "# Delete the rows which osm does to have stores correspond to the Tim Hortons dataset\n",
    "osm = osm[osm['tim_index'] != -1]"
   ]
  },
  {
   "cell_type": "code",
   "execution_count": 16,
   "metadata": {},
   "outputs": [
    {
     "data": {
      "text/plain": [
       "(114, 7)"
      ]
     },
     "execution_count": 16,
     "metadata": {},
     "output_type": "execute_result"
    }
   ],
   "source": [
    "osm.shape"
   ]
  },
  {
   "cell_type": "code",
   "execution_count": 17,
   "metadata": {},
   "outputs": [],
   "source": [
    "osm = osm.drop_duplicates(['tim_index'])"
   ]
  },
  {
   "cell_type": "code",
   "execution_count": 18,
   "metadata": {},
   "outputs": [
    {
     "data": {
      "text/plain": [
       "(112, 7)"
      ]
     },
     "execution_count": 18,
     "metadata": {},
     "output_type": "execute_result"
    }
   ],
   "source": [
    "osm.shape"
   ]
  },
  {
   "cell_type": "code",
   "execution_count": 19,
   "metadata": {},
   "outputs": [],
   "source": [
    "tims = tims.drop(['deliveryHours', 'franchiseGroupName', \n",
    "                  'physicalAddress', 'playgroundType',\n",
    "                  'pos', 'posRestaurantId','hasBurgersForBreakfast',\n",
    "                  'hasCatering','hasDriveThru','hasParking','hasPlayground',\n",
    "                  'diningRoomHours','curbsideHours','drinkStationType','driveThruHours','restaurantPosData'], axis=1)"
   ]
  },
  {
   "cell_type": "code",
   "execution_count": 20,
   "metadata": {},
   "outputs": [],
   "source": [
    "# avoid the name collision in the OSM dataset\n",
    "tims = tims.rename(columns={'name': 'addr'}) "
   ]
  },
  {
   "cell_type": "code",
   "execution_count": 21,
   "metadata": {},
   "outputs": [],
   "source": [
    "tims['tim_index'] = np.arange(tims.shape[0])"
   ]
  },
  {
   "cell_type": "code",
   "execution_count": 22,
   "metadata": {},
   "outputs": [],
   "source": [
    "# merge the osm dataset and tims dataset\n",
    "merge_df = osm.merge(tims, left_on='tim_index', right_on='tim_index')"
   ]
  },
  {
   "cell_type": "code",
   "execution_count": 23,
   "metadata": {},
   "outputs": [],
   "source": [
    "# encode the string categories into numerical\n",
    "le = preprocessing.LabelEncoder()"
   ]
  },
  {
   "cell_type": "code",
   "execution_count": 24,
   "metadata": {},
   "outputs": [],
   "source": [
    "merge_df['parkingType'] = parkingTypeProcessing(merge_df['parkingType'], merge_df['parkingType'].shape[0])"
   ]
  },
  {
   "cell_type": "code",
   "execution_count": 25,
   "metadata": {},
   "outputs": [
    {
     "data": {
      "text/html": [
       "<div>\n",
       "<style scoped>\n",
       "    .dataframe tbody tr th:only-of-type {\n",
       "        vertical-align: middle;\n",
       "    }\n",
       "\n",
       "    .dataframe tbody tr th {\n",
       "        vertical-align: top;\n",
       "    }\n",
       "\n",
       "    .dataframe thead th {\n",
       "        text-align: right;\n",
       "    }\n",
       "</style>\n",
       "<table border=\"1\" class=\"dataframe\">\n",
       "  <thead>\n",
       "    <tr style=\"text-align: right;\">\n",
       "      <th></th>\n",
       "      <th>amenity</th>\n",
       "      <th>lat</th>\n",
       "      <th>lon</th>\n",
       "      <th>name</th>\n",
       "      <th>tags</th>\n",
       "      <th>timestamp</th>\n",
       "      <th>tim_index</th>\n",
       "      <th>_id</th>\n",
       "      <th>driveThruLaneType</th>\n",
       "      <th>franchiseGroupId</th>\n",
       "      <th>...</th>\n",
       "      <th>hasTakeOut</th>\n",
       "      <th>hasWifi</th>\n",
       "      <th>latitude</th>\n",
       "      <th>longitude</th>\n",
       "      <th>mobileOrderingStatus</th>\n",
       "      <th>addr</th>\n",
       "      <th>number</th>\n",
       "      <th>parkingType</th>\n",
       "      <th>phoneNumber</th>\n",
       "      <th>Unnamed: 34</th>\n",
       "    </tr>\n",
       "  </thead>\n",
       "  <tbody>\n",
       "    <tr>\n",
       "      <th>0</th>\n",
       "      <td>cafe</td>\n",
       "      <td>49.193580</td>\n",
       "      <td>-123.180788</td>\n",
       "      <td>Tim Hortons</td>\n",
       "      <td>{u'cuisine': u'coffee_shop', u'level': u'0', u...</td>\n",
       "      <td>2019-09-14 12:00:22</td>\n",
       "      <td>190</td>\n",
       "      <td>restaurant_67542</td>\n",
       "      <td>No DT</td>\n",
       "      <td>101193.0</td>\n",
       "      <td>...</td>\n",
       "      <td>True</td>\n",
       "      <td>False</td>\n",
       "      <td>49.193410</td>\n",
       "      <td>-123.181521</td>\n",
       "      <td>alpha</td>\n",
       "      <td>3880 GRANT McCONACHIE WAY RICHMOND, British Co...</td>\n",
       "      <td>101625</td>\n",
       "      <td>1</td>\n",
       "      <td>6042313731</td>\n",
       "      <td>NaN</td>\n",
       "    </tr>\n",
       "    <tr>\n",
       "      <th>1</th>\n",
       "      <td>cafe</td>\n",
       "      <td>49.228400</td>\n",
       "      <td>-122.848383</td>\n",
       "      <td>Tim Hortons</td>\n",
       "      <td>{u'addr:housenumber': u'1450', u'cuisine': u'c...</td>\n",
       "      <td>2019-11-20 19:48:37</td>\n",
       "      <td>83</td>\n",
       "      <td>restaurant_68278</td>\n",
       "      <td>DDT</td>\n",
       "      <td>101343.0</td>\n",
       "      <td>...</td>\n",
       "      <td>True</td>\n",
       "      <td>True</td>\n",
       "      <td>49.228670</td>\n",
       "      <td>-122.848508</td>\n",
       "      <td>live</td>\n",
       "      <td>1450 UNITED BLVD COQUITLAM, British Columbia V...</td>\n",
       "      <td>102403</td>\n",
       "      <td>1</td>\n",
       "      <td>6045154252</td>\n",
       "      <td>NaN</td>\n",
       "    </tr>\n",
       "    <tr>\n",
       "      <th>2</th>\n",
       "      <td>cafe</td>\n",
       "      <td>49.212449</td>\n",
       "      <td>-122.919749</td>\n",
       "      <td>Tim Hortons</td>\n",
       "      <td>{u'website': u'https://www.timhortons.com/', u...</td>\n",
       "      <td>2019-07-02 08:10:30</td>\n",
       "      <td>101</td>\n",
       "      <td>restaurant_67920</td>\n",
       "      <td>No DT</td>\n",
       "      <td>100049.0</td>\n",
       "      <td>...</td>\n",
       "      <td>True</td>\n",
       "      <td>True</td>\n",
       "      <td>49.212473</td>\n",
       "      <td>-122.919562</td>\n",
       "      <td>live</td>\n",
       "      <td>524 6TH STREET NEW WESTMINSTER, British Columb...</td>\n",
       "      <td>102257</td>\n",
       "      <td>3</td>\n",
       "      <td>6045191294</td>\n",
       "      <td>NaN</td>\n",
       "    </tr>\n",
       "    <tr>\n",
       "      <th>3</th>\n",
       "      <td>cafe</td>\n",
       "      <td>49.091952</td>\n",
       "      <td>-122.957650</td>\n",
       "      <td>Tim Hortons</td>\n",
       "      <td>{u'cuisine': u'coffee_shop', u'brand': u'Tim H...</td>\n",
       "      <td>2019-08-02 08:26:08</td>\n",
       "      <td>106</td>\n",
       "      <td>restaurant_68011</td>\n",
       "      <td>DT</td>\n",
       "      <td>100843.0</td>\n",
       "      <td>...</td>\n",
       "      <td>True</td>\n",
       "      <td>True</td>\n",
       "      <td>49.092007</td>\n",
       "      <td>-122.957689</td>\n",
       "      <td>live</td>\n",
       "      <td>9591 LADNER TRUNK ROAD DELTA, British Columbia...</td>\n",
       "      <td>102163</td>\n",
       "      <td>1</td>\n",
       "      <td>6045900766</td>\n",
       "      <td>NaN</td>\n",
       "    </tr>\n",
       "    <tr>\n",
       "      <th>4</th>\n",
       "      <td>cafe</td>\n",
       "      <td>49.273107</td>\n",
       "      <td>-123.100727</td>\n",
       "      <td>Tim Hortons</td>\n",
       "      <td>{u'addr:housenumber': u'195', u'cuisine': u'co...</td>\n",
       "      <td>2020-02-06 04:20:15</td>\n",
       "      <td>153</td>\n",
       "      <td>restaurant_75916</td>\n",
       "      <td>No DT</td>\n",
       "      <td>101388.0</td>\n",
       "      <td>...</td>\n",
       "      <td>True</td>\n",
       "      <td>False</td>\n",
       "      <td>49.272901</td>\n",
       "      <td>-123.101653</td>\n",
       "      <td>live</td>\n",
       "      <td>195 TERMINAL AVENUE VANCOUVER, British Columbi...</td>\n",
       "      <td>107343</td>\n",
       "      <td>0</td>\n",
       "      <td>604-806-5256</td>\n",
       "      <td>NaN</td>\n",
       "    </tr>\n",
       "  </tbody>\n",
       "</table>\n",
       "<p>5 rows × 26 columns</p>\n",
       "</div>"
      ],
      "text/plain": [
       "  amenity        lat         lon         name  \\\n",
       "0    cafe  49.193580 -123.180788  Tim Hortons   \n",
       "1    cafe  49.228400 -122.848383  Tim Hortons   \n",
       "2    cafe  49.212449 -122.919749  Tim Hortons   \n",
       "3    cafe  49.091952 -122.957650  Tim Hortons   \n",
       "4    cafe  49.273107 -123.100727  Tim Hortons   \n",
       "\n",
       "                                                tags           timestamp  \\\n",
       "0  {u'cuisine': u'coffee_shop', u'level': u'0', u... 2019-09-14 12:00:22   \n",
       "1  {u'addr:housenumber': u'1450', u'cuisine': u'c... 2019-11-20 19:48:37   \n",
       "2  {u'website': u'https://www.timhortons.com/', u... 2019-07-02 08:10:30   \n",
       "3  {u'cuisine': u'coffee_shop', u'brand': u'Tim H... 2019-08-02 08:26:08   \n",
       "4  {u'addr:housenumber': u'195', u'cuisine': u'co... 2020-02-06 04:20:15   \n",
       "\n",
       "   tim_index               _id driveThruLaneType  franchiseGroupId  \\\n",
       "0        190  restaurant_67542             No DT          101193.0   \n",
       "1         83  restaurant_68278               DDT          101343.0   \n",
       "2        101  restaurant_67920             No DT          100049.0   \n",
       "3        106  restaurant_68011                DT          100843.0   \n",
       "4        153  restaurant_75916             No DT          101388.0   \n",
       "\n",
       "      ...      hasTakeOut hasWifi   latitude   longitude  \\\n",
       "0     ...            True   False  49.193410 -123.181521   \n",
       "1     ...            True    True  49.228670 -122.848508   \n",
       "2     ...            True    True  49.212473 -122.919562   \n",
       "3     ...            True    True  49.092007 -122.957689   \n",
       "4     ...            True   False  49.272901 -123.101653   \n",
       "\n",
       "   mobileOrderingStatus                                               addr  \\\n",
       "0                 alpha  3880 GRANT McCONACHIE WAY RICHMOND, British Co...   \n",
       "1                  live  1450 UNITED BLVD COQUITLAM, British Columbia V...   \n",
       "2                  live  524 6TH STREET NEW WESTMINSTER, British Columb...   \n",
       "3                  live  9591 LADNER TRUNK ROAD DELTA, British Columbia...   \n",
       "4                  live  195 TERMINAL AVENUE VANCOUVER, British Columbi...   \n",
       "\n",
       "   number  parkingType   phoneNumber  Unnamed: 34  \n",
       "0  101625            1    6042313731          NaN  \n",
       "1  102403            1    6045154252          NaN  \n",
       "2  102257            3    6045191294          NaN  \n",
       "3  102163            1    6045900766          NaN  \n",
       "4  107343            0  604-806-5256          NaN  \n",
       "\n",
       "[5 rows x 26 columns]"
      ]
     },
     "execution_count": 25,
     "metadata": {},
     "output_type": "execute_result"
    }
   ],
   "source": [
    "merge_df.head()"
   ]
  },
  {
   "cell_type": "markdown",
   "metadata": {},
   "source": [
    "## Convert the categorical variables to numberical "
   ]
  },
  {
   "cell_type": "code",
   "execution_count": 26,
   "metadata": {},
   "outputs": [],
   "source": [
    "# convert amenity types 0 - cafe, 1 - fast_food\n",
    "merge_df['amenity']=le.fit_transform(merge_df['amenity'])\n",
    "assert np.unique(merge_df['amenity']).size == 2"
   ]
  },
  {
   "cell_type": "code",
   "execution_count": 27,
   "metadata": {},
   "outputs": [],
   "source": [
    "# convert hasTakeOut 1 - True, 0 - False\n",
    "merge_df['hasTakeOut']=le.fit_transform(merge_df['hasTakeOut'])\n",
    "assert np.unique(merge_df['hasTakeOut']).size == 2"
   ]
  },
  {
   "cell_type": "code",
   "execution_count": 28,
   "metadata": {},
   "outputs": [],
   "source": [
    "# convert driveThruLaneType 0 - DT, 1 - DT Only, 2 - No DT\n",
    "merge_df['driveThruLaneType'] = handleMisspell(merge_df['driveThruLaneType'], 'DDT','DT')\n",
    "merge_df['driveThruLaneType']=le.fit_transform(merge_df['driveThruLaneType'])\n",
    "assert np.unique(merge_df['driveThruLaneType']).size == 3"
   ]
  },
  {
   "cell_type": "code",
   "execution_count": 29,
   "metadata": {},
   "outputs": [],
   "source": [
    "# convert frontCounterClosed 1 - True, 0 - False\n",
    "merge_df['frontCounterClosed']=le.fit_transform(merge_df['frontCounterClosed'])\n",
    "assert np.unique(merge_df['frontCounterClosed']).size == 2"
   ]
  },
  {
   "cell_type": "code",
   "execution_count": 30,
   "metadata": {},
   "outputs": [],
   "source": [
    "# convert hasBreakfast 1 - True, 0 - False\n",
    "merge_df['hasBreakfast']=le.fit_transform(merge_df['hasBreakfast'])\n",
    "assert np.unique(merge_df['hasBreakfast']).size == 2"
   ]
  },
  {
   "cell_type": "code",
   "execution_count": 31,
   "metadata": {},
   "outputs": [],
   "source": [
    "# convert hasCurbside 1 - True, 0 - False\n",
    "merge_df['hasCurbside']=le.fit_transform(merge_df['hasCurbside'])\n",
    "assert np.unique(merge_df['hasCurbside']).size == 2"
   ]
  },
  {
   "cell_type": "code",
   "execution_count": 32,
   "metadata": {},
   "outputs": [],
   "source": [
    "# convert hasDineIn 1 - True, 0 - False\n",
    "merge_df['hasDineIn']=le.fit_transform(merge_df['hasDineIn'])\n",
    "assert np.unique(merge_df['hasDineIn']).size == 2"
   ]
  },
  {
   "cell_type": "code",
   "execution_count": 33,
   "metadata": {},
   "outputs": [],
   "source": [
    "# convert hasDelivery 1 - True, 0 - False\n",
    "merge_df['hasDelivery']=le.fit_transform(merge_df['hasDelivery'])\n",
    "assert np.unique(merge_df['hasDelivery']).size == 2"
   ]
  },
  {
   "cell_type": "code",
   "execution_count": 34,
   "metadata": {},
   "outputs": [],
   "source": [
    "# convert hasMobileOrdering 1 - True, 0 - False\n",
    "merge_df['hasMobileOrdering']=le.fit_transform(merge_df['hasMobileOrdering'])\n",
    "assert np.unique(merge_df['hasMobileOrdering']).size == 2"
   ]
  },
  {
   "cell_type": "code",
   "execution_count": 35,
   "metadata": {},
   "outputs": [],
   "source": [
    "# convert hasTakeOut 1 - True, 0 - False\n",
    "merge_df['hasTakeOut']=le.fit_transform(merge_df['hasTakeOut'])\n",
    "assert np.unique(merge_df['hasTakeOut']).size == 2"
   ]
  },
  {
   "cell_type": "code",
   "execution_count": 36,
   "metadata": {},
   "outputs": [],
   "source": [
    "# convert hasWifi 1 - True, 0 - False\n",
    "merge_df['hasWifi']=le.fit_transform(merge_df['hasWifi'])\n",
    "assert np.unique(merge_df['hasWifi']).size == 2"
   ]
  },
  {
   "cell_type": "code",
   "execution_count": 37,
   "metadata": {},
   "outputs": [],
   "source": [
    "# convert mobileOrderingStatus 0 - alpha, 1 - live\n",
    "merge_df['mobileOrderingStatus']=le.fit_transform(merge_df['mobileOrderingStatus'])\n",
    "assert np.unique(merge_df['mobileOrderingStatus']).size == 2"
   ]
  },
  {
   "cell_type": "code",
   "execution_count": 38,
   "metadata": {},
   "outputs": [],
   "source": [
    "# Use len(tags) --> more tags signify more popular\n",
    "merge_df['tags_len']= merge_df['tags'].apply(lambda tag: len(tag))"
   ]
  },
  {
   "cell_type": "code",
   "execution_count": 39,
   "metadata": {},
   "outputs": [],
   "source": [
    "merge_df.to_csv('merge_tims.csv')"
   ]
  },
  {
   "cell_type": "code",
   "execution_count": 40,
   "metadata": {},
   "outputs": [
    {
     "data": {
      "text/plain": [
       "(112, 27)"
      ]
     },
     "execution_count": 40,
     "metadata": {},
     "output_type": "execute_result"
    }
   ],
   "source": [
    "merge_df.shape"
   ]
  },
  {
   "cell_type": "code",
   "execution_count": 41,
   "metadata": {},
   "outputs": [],
   "source": [
    "def closestAmenity(lat1,lon1, osm):\n",
    "#     lat1, lon1 = tims['latitude'], tims['longitude']\n",
    "    p = pi/180\n",
    "    a = 0.5 - np.cos((osm['lat']-lat1)*p)/2 + np.cos(lat1*p) * np.cos(osm['lat']*p) * (1-np.cos((osm['lon']-lon1)*p))/2\n",
    "    res = pd.DataFrame(columns=['dist','index'])\n",
    "    res['index'] = np.arange(original.shape[0])\n",
    "    res['dist'] = 12742 * np.arcsin(np.sqrt(a))*1000\n",
    "    return res[(res['dist'] > 0)&(res['dist'] < 20)]"
   ]
  },
  {
   "cell_type": "code",
   "execution_count": 42,
   "metadata": {
    "scrolled": true
   },
   "outputs": [],
   "source": [
    "def topThreeAmenity(df):\n",
    "#     df = pd.DataFrame([[df['lat'],df['lon']]],columns=['latitude','longitude'])\n",
    "    closest = closestAmenity(df['lat'],df['lon'], original)\n",
    "    closest = original.iloc[closest['index']].copy()\n",
    "    if len(closest) == 0:\n",
    "        return np.array([-1] * 3)\n",
    "    closest['tag_len'] = closest['tags'].apply(lambda tag: len(tag))\n",
    "    # get the top 3 popular amenity nearby\n",
    "    top_three = closest.nlargest(3,'tag_len')['amenity'] \n",
    "    # encoder to encode the amenity categories\n",
    "    le = preprocessing.LabelEncoder()\n",
    "    amenity_encoder = le.fit(original['amenity'])\n",
    "    # if there are less than 3 amenity, append the -1 at the end\n",
    "    padding = np.array([-1] * (3 - len(top_three)))\n",
    "    res = amenity_encoder.transform(list(top_three))\n",
    "    res = np.append(res,padding)\n",
    "    return res"
   ]
  },
  {
   "cell_type": "code",
   "execution_count": 43,
   "metadata": {},
   "outputs": [],
   "source": [
    "merge_df['new'] = merge_df.apply(topThreeAmenity,axis=1)"
   ]
  },
  {
   "cell_type": "code",
   "execution_count": 44,
   "metadata": {},
   "outputs": [],
   "source": [
    "def splitTopThree(new):\n",
    "    topThree = list(new)\n",
    "    l1,l2,l3 = topThree[0],topThree[1],topThree[2]\n",
    "    df = pd.DataFrame([[l1,l2,l3]],columns=['l1','l2','l3'])\n",
    "    return df"
   ]
  },
  {
   "cell_type": "code",
   "execution_count": 45,
   "metadata": {},
   "outputs": [],
   "source": [
    "merge_df['new'].apply(splitTopThree).head()\n",
    "merge_split = merge_df['new'].apply(pd.Series)\n",
    "merge_split = merge_split.rename(columns = lambda x : 'amenity' + str(x))\n",
    "merge_df = pd.concat([merge_df[:], merge_split[:]], axis=1)"
   ]
  },
  {
   "cell_type": "code",
   "execution_count": 46,
   "metadata": {},
   "outputs": [
    {
     "data": {
      "text/html": [
       "<div>\n",
       "<style scoped>\n",
       "    .dataframe tbody tr th:only-of-type {\n",
       "        vertical-align: middle;\n",
       "    }\n",
       "\n",
       "    .dataframe tbody tr th {\n",
       "        vertical-align: top;\n",
       "    }\n",
       "\n",
       "    .dataframe thead th {\n",
       "        text-align: right;\n",
       "    }\n",
       "</style>\n",
       "<table border=\"1\" class=\"dataframe\">\n",
       "  <thead>\n",
       "    <tr style=\"text-align: right;\">\n",
       "      <th></th>\n",
       "      <th>amenity</th>\n",
       "      <th>lat</th>\n",
       "      <th>lon</th>\n",
       "      <th>name</th>\n",
       "      <th>tags</th>\n",
       "      <th>timestamp</th>\n",
       "      <th>tim_index</th>\n",
       "      <th>_id</th>\n",
       "      <th>driveThruLaneType</th>\n",
       "      <th>franchiseGroupId</th>\n",
       "      <th>...</th>\n",
       "      <th>addr</th>\n",
       "      <th>number</th>\n",
       "      <th>parkingType</th>\n",
       "      <th>phoneNumber</th>\n",
       "      <th>Unnamed: 34</th>\n",
       "      <th>tags_len</th>\n",
       "      <th>new</th>\n",
       "      <th>amenity0</th>\n",
       "      <th>amenity1</th>\n",
       "      <th>amenity2</th>\n",
       "    </tr>\n",
       "  </thead>\n",
       "  <tbody>\n",
       "    <tr>\n",
       "      <th>0</th>\n",
       "      <td>0</td>\n",
       "      <td>49.193580</td>\n",
       "      <td>-123.180788</td>\n",
       "      <td>Tim Hortons</td>\n",
       "      <td>{u'cuisine': u'coffee_shop', u'level': u'0', u...</td>\n",
       "      <td>2019-09-14 12:00:22</td>\n",
       "      <td>190</td>\n",
       "      <td>restaurant_67542</td>\n",
       "      <td>2</td>\n",
       "      <td>101193.0</td>\n",
       "      <td>...</td>\n",
       "      <td>3880 GRANT McCONACHIE WAY RICHMOND, British Co...</td>\n",
       "      <td>101625</td>\n",
       "      <td>1</td>\n",
       "      <td>6042313731</td>\n",
       "      <td>NaN</td>\n",
       "      <td>7</td>\n",
       "      <td>[-1, -1, -1]</td>\n",
       "      <td>-1.0</td>\n",
       "      <td>-1.0</td>\n",
       "      <td>-1.0</td>\n",
       "    </tr>\n",
       "    <tr>\n",
       "      <th>1</th>\n",
       "      <td>0</td>\n",
       "      <td>49.228400</td>\n",
       "      <td>-122.848383</td>\n",
       "      <td>Tim Hortons</td>\n",
       "      <td>{u'addr:housenumber': u'1450', u'cuisine': u'c...</td>\n",
       "      <td>2019-11-20 19:48:37</td>\n",
       "      <td>83</td>\n",
       "      <td>restaurant_68278</td>\n",
       "      <td>0</td>\n",
       "      <td>101343.0</td>\n",
       "      <td>...</td>\n",
       "      <td>1450 UNITED BLVD COQUITLAM, British Columbia V...</td>\n",
       "      <td>102403</td>\n",
       "      <td>1</td>\n",
       "      <td>6045154252</td>\n",
       "      <td>NaN</td>\n",
       "      <td>8</td>\n",
       "      <td>[41, -1, -1]</td>\n",
       "      <td>41.0</td>\n",
       "      <td>-1.0</td>\n",
       "      <td>-1.0</td>\n",
       "    </tr>\n",
       "    <tr>\n",
       "      <th>2</th>\n",
       "      <td>0</td>\n",
       "      <td>49.212449</td>\n",
       "      <td>-122.919749</td>\n",
       "      <td>Tim Hortons</td>\n",
       "      <td>{u'website': u'https://www.timhortons.com/', u...</td>\n",
       "      <td>2019-07-02 08:10:30</td>\n",
       "      <td>101</td>\n",
       "      <td>restaurant_67920</td>\n",
       "      <td>2</td>\n",
       "      <td>100049.0</td>\n",
       "      <td>...</td>\n",
       "      <td>524 6TH STREET NEW WESTMINSTER, British Columb...</td>\n",
       "      <td>102257</td>\n",
       "      <td>3</td>\n",
       "      <td>6045191294</td>\n",
       "      <td>NaN</td>\n",
       "      <td>8</td>\n",
       "      <td>[-1, -1, -1]</td>\n",
       "      <td>-1.0</td>\n",
       "      <td>-1.0</td>\n",
       "      <td>-1.0</td>\n",
       "    </tr>\n",
       "    <tr>\n",
       "      <th>3</th>\n",
       "      <td>0</td>\n",
       "      <td>49.091952</td>\n",
       "      <td>-122.957650</td>\n",
       "      <td>Tim Hortons</td>\n",
       "      <td>{u'cuisine': u'coffee_shop', u'brand': u'Tim H...</td>\n",
       "      <td>2019-08-02 08:26:08</td>\n",
       "      <td>106</td>\n",
       "      <td>restaurant_68011</td>\n",
       "      <td>0</td>\n",
       "      <td>100843.0</td>\n",
       "      <td>...</td>\n",
       "      <td>9591 LADNER TRUNK ROAD DELTA, British Columbia...</td>\n",
       "      <td>102163</td>\n",
       "      <td>1</td>\n",
       "      <td>6045900766</td>\n",
       "      <td>NaN</td>\n",
       "      <td>5</td>\n",
       "      <td>[46, -1, -1]</td>\n",
       "      <td>46.0</td>\n",
       "      <td>-1.0</td>\n",
       "      <td>-1.0</td>\n",
       "    </tr>\n",
       "    <tr>\n",
       "      <th>4</th>\n",
       "      <td>0</td>\n",
       "      <td>49.273107</td>\n",
       "      <td>-123.100727</td>\n",
       "      <td>Tim Hortons</td>\n",
       "      <td>{u'addr:housenumber': u'195', u'cuisine': u'co...</td>\n",
       "      <td>2020-02-06 04:20:15</td>\n",
       "      <td>153</td>\n",
       "      <td>restaurant_75916</td>\n",
       "      <td>2</td>\n",
       "      <td>101388.0</td>\n",
       "      <td>...</td>\n",
       "      <td>195 TERMINAL AVENUE VANCOUVER, British Columbi...</td>\n",
       "      <td>107343</td>\n",
       "      <td>0</td>\n",
       "      <td>604-806-5256</td>\n",
       "      <td>NaN</td>\n",
       "      <td>8</td>\n",
       "      <td>[-1, -1, -1]</td>\n",
       "      <td>-1.0</td>\n",
       "      <td>-1.0</td>\n",
       "      <td>-1.0</td>\n",
       "    </tr>\n",
       "  </tbody>\n",
       "</table>\n",
       "<p>5 rows × 31 columns</p>\n",
       "</div>"
      ],
      "text/plain": [
       "   amenity        lat         lon         name  \\\n",
       "0        0  49.193580 -123.180788  Tim Hortons   \n",
       "1        0  49.228400 -122.848383  Tim Hortons   \n",
       "2        0  49.212449 -122.919749  Tim Hortons   \n",
       "3        0  49.091952 -122.957650  Tim Hortons   \n",
       "4        0  49.273107 -123.100727  Tim Hortons   \n",
       "\n",
       "                                                tags           timestamp  \\\n",
       "0  {u'cuisine': u'coffee_shop', u'level': u'0', u... 2019-09-14 12:00:22   \n",
       "1  {u'addr:housenumber': u'1450', u'cuisine': u'c... 2019-11-20 19:48:37   \n",
       "2  {u'website': u'https://www.timhortons.com/', u... 2019-07-02 08:10:30   \n",
       "3  {u'cuisine': u'coffee_shop', u'brand': u'Tim H... 2019-08-02 08:26:08   \n",
       "4  {u'addr:housenumber': u'195', u'cuisine': u'co... 2020-02-06 04:20:15   \n",
       "\n",
       "   tim_index               _id  driveThruLaneType  franchiseGroupId    ...     \\\n",
       "0        190  restaurant_67542                  2          101193.0    ...      \n",
       "1         83  restaurant_68278                  0          101343.0    ...      \n",
       "2        101  restaurant_67920                  2          100049.0    ...      \n",
       "3        106  restaurant_68011                  0          100843.0    ...      \n",
       "4        153  restaurant_75916                  2          101388.0    ...      \n",
       "\n",
       "                                                addr  number  parkingType  \\\n",
       "0  3880 GRANT McCONACHIE WAY RICHMOND, British Co...  101625            1   \n",
       "1  1450 UNITED BLVD COQUITLAM, British Columbia V...  102403            1   \n",
       "2  524 6TH STREET NEW WESTMINSTER, British Columb...  102257            3   \n",
       "3  9591 LADNER TRUNK ROAD DELTA, British Columbia...  102163            1   \n",
       "4  195 TERMINAL AVENUE VANCOUVER, British Columbi...  107343            0   \n",
       "\n",
       "    phoneNumber  Unnamed: 34  tags_len           new  amenity0  amenity1  \\\n",
       "0    6042313731          NaN         7  [-1, -1, -1]      -1.0      -1.0   \n",
       "1    6045154252          NaN         8  [41, -1, -1]      41.0      -1.0   \n",
       "2    6045191294          NaN         8  [-1, -1, -1]      -1.0      -1.0   \n",
       "3    6045900766          NaN         5  [46, -1, -1]      46.0      -1.0   \n",
       "4  604-806-5256          NaN         8  [-1, -1, -1]      -1.0      -1.0   \n",
       "\n",
       "   amenity2  \n",
       "0      -1.0  \n",
       "1      -1.0  \n",
       "2      -1.0  \n",
       "3      -1.0  \n",
       "4      -1.0  \n",
       "\n",
       "[5 rows x 31 columns]"
      ]
     },
     "execution_count": 46,
     "metadata": {},
     "output_type": "execute_result"
    }
   ],
   "source": [
    "merge_df.head()"
   ]
  },
  {
   "cell_type": "code",
   "execution_count": 47,
   "metadata": {},
   "outputs": [],
   "source": [
    "# Drop unnecessary rows ex. phone number is not useful for the prediction\n",
    "test_df = merge_df.drop(['lat','lon','name','tags','tim_index','timestamp','latitude',\n",
    "                         'longitude','phoneNumber','Unnamed: 34','addr','new','franchiseGroupId'],axis=1)"
   ]
  },
  {
   "cell_type": "code",
   "execution_count": 48,
   "metadata": {},
   "outputs": [],
   "source": [
    "# extract the ID from the restarnt id\n",
    "test_df['_id'] = test_df['_id'].str.extract('(\\d+)')"
   ]
  },
  {
   "cell_type": "code",
   "execution_count": 49,
   "metadata": {},
   "outputs": [
    {
     "data": {
      "text/html": [
       "<div>\n",
       "<style scoped>\n",
       "    .dataframe tbody tr th:only-of-type {\n",
       "        vertical-align: middle;\n",
       "    }\n",
       "\n",
       "    .dataframe tbody tr th {\n",
       "        vertical-align: top;\n",
       "    }\n",
       "\n",
       "    .dataframe thead th {\n",
       "        text-align: right;\n",
       "    }\n",
       "</style>\n",
       "<table border=\"1\" class=\"dataframe\">\n",
       "  <thead>\n",
       "    <tr style=\"text-align: right;\">\n",
       "      <th></th>\n",
       "      <th>amenity</th>\n",
       "      <th>_id</th>\n",
       "      <th>driveThruLaneType</th>\n",
       "      <th>frontCounterClosed</th>\n",
       "      <th>hasBreakfast</th>\n",
       "      <th>hasCurbside</th>\n",
       "      <th>hasDineIn</th>\n",
       "      <th>hasDelivery</th>\n",
       "      <th>hasMobileOrdering</th>\n",
       "      <th>hasTakeOut</th>\n",
       "      <th>hasWifi</th>\n",
       "      <th>mobileOrderingStatus</th>\n",
       "      <th>number</th>\n",
       "      <th>parkingType</th>\n",
       "      <th>tags_len</th>\n",
       "      <th>amenity0</th>\n",
       "      <th>amenity1</th>\n",
       "      <th>amenity2</th>\n",
       "    </tr>\n",
       "  </thead>\n",
       "  <tbody>\n",
       "    <tr>\n",
       "      <th>0</th>\n",
       "      <td>0</td>\n",
       "      <td>67542</td>\n",
       "      <td>2</td>\n",
       "      <td>0</td>\n",
       "      <td>0</td>\n",
       "      <td>0</td>\n",
       "      <td>0</td>\n",
       "      <td>1</td>\n",
       "      <td>0</td>\n",
       "      <td>1</td>\n",
       "      <td>0</td>\n",
       "      <td>0</td>\n",
       "      <td>101625</td>\n",
       "      <td>1</td>\n",
       "      <td>7</td>\n",
       "      <td>-1.0</td>\n",
       "      <td>-1.0</td>\n",
       "      <td>-1.0</td>\n",
       "    </tr>\n",
       "    <tr>\n",
       "      <th>1</th>\n",
       "      <td>0</td>\n",
       "      <td>68278</td>\n",
       "      <td>0</td>\n",
       "      <td>0</td>\n",
       "      <td>1</td>\n",
       "      <td>0</td>\n",
       "      <td>0</td>\n",
       "      <td>1</td>\n",
       "      <td>1</td>\n",
       "      <td>1</td>\n",
       "      <td>1</td>\n",
       "      <td>1</td>\n",
       "      <td>102403</td>\n",
       "      <td>1</td>\n",
       "      <td>8</td>\n",
       "      <td>41.0</td>\n",
       "      <td>-1.0</td>\n",
       "      <td>-1.0</td>\n",
       "    </tr>\n",
       "    <tr>\n",
       "      <th>2</th>\n",
       "      <td>0</td>\n",
       "      <td>67920</td>\n",
       "      <td>2</td>\n",
       "      <td>0</td>\n",
       "      <td>1</td>\n",
       "      <td>0</td>\n",
       "      <td>0</td>\n",
       "      <td>1</td>\n",
       "      <td>1</td>\n",
       "      <td>1</td>\n",
       "      <td>1</td>\n",
       "      <td>1</td>\n",
       "      <td>102257</td>\n",
       "      <td>3</td>\n",
       "      <td>8</td>\n",
       "      <td>-1.0</td>\n",
       "      <td>-1.0</td>\n",
       "      <td>-1.0</td>\n",
       "    </tr>\n",
       "    <tr>\n",
       "      <th>3</th>\n",
       "      <td>0</td>\n",
       "      <td>68011</td>\n",
       "      <td>0</td>\n",
       "      <td>0</td>\n",
       "      <td>1</td>\n",
       "      <td>0</td>\n",
       "      <td>0</td>\n",
       "      <td>1</td>\n",
       "      <td>1</td>\n",
       "      <td>1</td>\n",
       "      <td>1</td>\n",
       "      <td>1</td>\n",
       "      <td>102163</td>\n",
       "      <td>1</td>\n",
       "      <td>5</td>\n",
       "      <td>46.0</td>\n",
       "      <td>-1.0</td>\n",
       "      <td>-1.0</td>\n",
       "    </tr>\n",
       "    <tr>\n",
       "      <th>4</th>\n",
       "      <td>0</td>\n",
       "      <td>75916</td>\n",
       "      <td>2</td>\n",
       "      <td>0</td>\n",
       "      <td>0</td>\n",
       "      <td>0</td>\n",
       "      <td>0</td>\n",
       "      <td>1</td>\n",
       "      <td>1</td>\n",
       "      <td>1</td>\n",
       "      <td>0</td>\n",
       "      <td>1</td>\n",
       "      <td>107343</td>\n",
       "      <td>0</td>\n",
       "      <td>8</td>\n",
       "      <td>-1.0</td>\n",
       "      <td>-1.0</td>\n",
       "      <td>-1.0</td>\n",
       "    </tr>\n",
       "  </tbody>\n",
       "</table>\n",
       "</div>"
      ],
      "text/plain": [
       "   amenity    _id  driveThruLaneType  frontCounterClosed  hasBreakfast  \\\n",
       "0        0  67542                  2                   0             0   \n",
       "1        0  68278                  0                   0             1   \n",
       "2        0  67920                  2                   0             1   \n",
       "3        0  68011                  0                   0             1   \n",
       "4        0  75916                  2                   0             0   \n",
       "\n",
       "   hasCurbside  hasDineIn  hasDelivery  hasMobileOrdering  hasTakeOut  \\\n",
       "0            0          0            1                  0           1   \n",
       "1            0          0            1                  1           1   \n",
       "2            0          0            1                  1           1   \n",
       "3            0          0            1                  1           1   \n",
       "4            0          0            1                  1           1   \n",
       "\n",
       "   hasWifi  mobileOrderingStatus  number  parkingType  tags_len  amenity0  \\\n",
       "0        0                     0  101625            1         7      -1.0   \n",
       "1        1                     1  102403            1         8      41.0   \n",
       "2        1                     1  102257            3         8      -1.0   \n",
       "3        1                     1  102163            1         5      46.0   \n",
       "4        0                     1  107343            0         8      -1.0   \n",
       "\n",
       "   amenity1  amenity2  \n",
       "0      -1.0      -1.0  \n",
       "1      -1.0      -1.0  \n",
       "2      -1.0      -1.0  \n",
       "3      -1.0      -1.0  \n",
       "4      -1.0      -1.0  "
      ]
     },
     "execution_count": 49,
     "metadata": {},
     "output_type": "execute_result"
    }
   ],
   "source": [
    "test_df.head()"
   ]
  },
  {
   "cell_type": "code",
   "execution_count": 50,
   "metadata": {},
   "outputs": [],
   "source": [
    "def get_pca(X):\n",
    "    flatten_model = make_pipeline(\n",
    "        StandardScaler(),\n",
    "        PCA(5)\n",
    "    )\n",
    "    X2 = flatten_model.fit_transform(X)\n",
    "    return X2"
   ]
  },
  {
   "cell_type": "code",
   "execution_count": 51,
   "metadata": {},
   "outputs": [],
   "source": [
    "def get_clusters(X):\n",
    "    model = make_pipeline(\n",
    "        KMeans(n_clusters=24)\n",
    "    )\n",
    "    model.fit(X)\n",
    "    return model.predict(X)"
   ]
  },
  {
   "cell_type": "code",
   "execution_count": 52,
   "metadata": {},
   "outputs": [
    {
     "data": {
      "text/plain": [
       "NearestNeighbors(algorithm='auto', leaf_size=30, metric='manhattan',\n",
       "         metric_params=None, n_jobs=1, n_neighbors=5, p=2, radius=1.0)"
      ]
     },
     "execution_count": 52,
     "metadata": {},
     "output_type": "execute_result"
    }
   ],
   "source": [
    "knn = NearestNeighbors(metric = 'manhattan')\n",
    "test_df = get_pca(test_df)\n",
    "knn.fit(test_df)"
   ]
  },
  {
   "cell_type": "code",
   "execution_count": 53,
   "metadata": {},
   "outputs": [],
   "source": [
    "distances, indices = knn.kneighbors(test_df[choice].reshape(1, -1), n_neighbors = 5)"
   ]
  },
  {
   "cell_type": "code",
   "execution_count": 54,
   "metadata": {},
   "outputs": [],
   "source": [
    "def amenityPrint(x):\n",
    "    x = int(x)\n",
    "    if x == -1:\n",
    "        return \"empty\"\n",
    "    else:\n",
    "        le = preprocessing.LabelEncoder()\n",
    "        le = le.fit(original['amenity'])\n",
    "        return le.inverse_transform([x])[0]"
   ]
  },
  {
   "cell_type": "code",
   "execution_count": 55,
   "metadata": {},
   "outputs": [],
   "source": [
    "merge_df['amenity0'] = merge_df['amenity0'].apply(amenityPrint)\n",
    "merge_df['amenity1'] = merge_df['amenity1'].apply(amenityPrint)\n",
    "merge_df['amenity2'] = merge_df['amenity2'].apply(amenityPrint)"
   ]
  },
  {
   "cell_type": "code",
   "execution_count": 56,
   "metadata": {},
   "outputs": [
    {
     "name": "stdout",
     "output_type": "stream",
     "text": [
      "KNN result with address: \n",
      "4700 KINGSWAY BURNABY, British Columbia V5H 4N2 - Canada\n",
      "lat    49.2274\n",
      "lon       -123\n",
      "Name: 29, dtype: object\n",
      "++++++++++++++Neighbors++++++++++++++++++\n",
      "#1011 10355 152nd STREET GUILDFORD TOWNE CENTRE SURREY, British Columbia V3R 7C1 - Canada\n",
      "lat    49.1888\n",
      "lon   -122.803\n",
      "Name: 54, dtype: object\n",
      "++++++++++++++Neighbors++++++++++++++++++\n",
      "487 INTERURBAN WAY VANCOUVER, British Columbia V5X 0C5 - Canada\n",
      "lat    49.2093\n",
      "lon   -123.117\n",
      "Name: 71, dtype: object\n",
      "++++++++++++++Neighbors++++++++++++++++++\n",
      "4820 KINGSWAY ST BURNABY, British Columbia V5H 4P1 - Canada\n",
      "lat    49.2254\n",
      "lon   -122.997\n",
      "Name: 13, dtype: object\n",
      "++++++++++++++Neighbors++++++++++++++++++\n",
      "10320 152 STREET SURREY, British Columbia V3R 4G8 - Canada\n",
      "lat    49.1901\n",
      "lon   -122.801\n",
      "Name: 73, dtype: object\n"
     ]
    }
   ],
   "source": [
    "# it will output the 4 closest tims horton\n",
    "knn_data = []\n",
    "print(\"KNN result with address: \")\n",
    "for i in range(0, len(distances.flatten())):\n",
    "    if i == 0:\n",
    "        print(merge_df.iloc[choice]['addr'])\n",
    "        print(merge_df.iloc[choice][['lat','lon']])\n",
    "        knn_data.append(merge_df.iloc[choice].values)\n",
    "    else:\n",
    "        print(\"++++++++++++++Neighbors++++++++++++++++++\")\n",
    "        print(merge_df.iloc[indices.flatten()[i]]['addr'])\n",
    "        print(merge_df.iloc[indices.flatten()[i]][['lat','lon']])\n",
    "        knn_data.append(merge_df.iloc[indices.flatten()[i]].values)"
   ]
  },
  {
   "cell_type": "code",
   "execution_count": 57,
   "metadata": {},
   "outputs": [],
   "source": [
    "knn_df = pd.DataFrame(knn_data)"
   ]
  },
  {
   "cell_type": "code",
   "execution_count": 58,
   "metadata": {},
   "outputs": [],
   "source": [
    "knn_df.to_csv('knn_result.csv',sep=',',header=merge_df.columns)"
   ]
  },
  {
   "cell_type": "code",
   "execution_count": 59,
   "metadata": {},
   "outputs": [],
   "source": [
    "# apply kmean here to see if it get a simialr result as knn\n",
    "km = KMeans(n_clusters=24).fit(test_df)\n",
    "cluster_map = pd.DataFrame()\n",
    "cluster_map['data_index'] = np.arange(112)\n",
    "cluster_map['cluster'] = km.labels_"
   ]
  },
  {
   "cell_type": "code",
   "execution_count": 60,
   "metadata": {},
   "outputs": [],
   "source": [
    "kmean_df = cluster_map[cluster_map.cluster == (cluster_map.iloc[choice]['cluster'])]\n",
    "kmean_data = []\n",
    "for i in range(kmean_df.shape[0]):\n",
    "    kmean_data.append(merge_df.iloc[kmean_df['data_index'].iloc[i]].values)\n",
    "kmean = pd.DataFrame(kmean_data)\n",
    "kmean.to_csv('kmean_result.csv',sep=',',header=merge_df.columns)"
   ]
  },
  {
   "cell_type": "code",
   "execution_count": 61,
   "metadata": {},
   "outputs": [
    {
     "name": "stdout",
     "output_type": "stream",
     "text": [
      "The KMEAN result with address: \n",
      "4700 KINGSWAY BURNABY, British Columbia V5H 4N2 - Canada\n",
      "lat    49.2274\n",
      "lon       -123\n",
      "Name: 29, dtype: object\n",
      " \n"
     ]
    }
   ],
   "source": [
    "print(\"The KMEAN result with address: \")\n",
    "for i in range(kmean_df.shape[0]):\n",
    "    index = kmean_df.iloc[i]['data_index']\n",
    "    print(merge_df.iloc[index]['addr'])\n",
    "    print(merge_df.iloc[index][['lat','lon']])\n",
    "    print(\" \")"
   ]
  },
  {
   "cell_type": "code",
   "execution_count": 62,
   "metadata": {},
   "outputs": [
    {
     "name": "stdout",
     "output_type": "stream",
     "text": [
      "The KMEAN result(in index): \n",
      "    data_index  cluster\n",
      "29          29        5\n"
     ]
    }
   ],
   "source": [
    "print(\"The KMEAN result(in index): \")\n",
    "print(cluster_map[cluster_map.cluster == (cluster_map.iloc[choice]['cluster'])])"
   ]
  },
  {
   "cell_type": "code",
   "execution_count": 63,
   "metadata": {},
   "outputs": [
    {
     "name": "stdout",
     "output_type": "stream",
     "text": [
      "The Knn result(in index): [29 54 71 13 73]\n"
     ]
    }
   ],
   "source": [
    "print(\"The Knn result(in index): \"+ str(indices.flatten()))"
   ]
  },
  {
   "cell_type": "code",
   "execution_count": null,
   "metadata": {},
   "outputs": [],
   "source": []
  }
 ],
 "metadata": {
  "kernelspec": {
   "display_name": "Python 3",
   "language": "python",
   "name": "python3"
  },
  "language_info": {
   "codemirror_mode": {
    "name": "ipython",
    "version": 2
   },
   "file_extension": ".py",
   "mimetype": "text/x-python",
   "name": "python",
   "nbconvert_exporter": "python",
   "pygments_lexer": "ipython2",
   "version": "2.7.15"
  }
 },
 "nbformat": 4,
 "nbformat_minor": 2
}
